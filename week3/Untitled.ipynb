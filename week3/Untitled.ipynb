{
 "cells": [
  {
   "cell_type": "code",
   "execution_count": null,
   "id": "ff099384-ba47-4651-a829-f75147d13388",
   "metadata": {},
   "outputs": [],
   "source": [
    "#\n",
    "# app.py (app1.py)\n",
    "#\n",
    "# > streamlit run app.py\n",
    "#\n",
    "'''\n",
    "import streamlit as st\n",
    "from streamlit_option_menu import option_menu\n",
    "from utils import load_data\n",
    "from home import run_home\n",
    "\n",
    "def main() :\n",
    "    total_df = load_data()\n",
    "    with st.sidebar:\n",
    "        selected = option_menu('데시보드 메뉴', ['홈', '탐색적 자료분석', '부동산 예측'],\n",
    "            icons=['house', 'file-bar_graph', 'graph-up-arrow'], menu_icon='cast', default_index=0)\n",
    "    if selected == '홈':\n",
    "        run_home(total_df)\n",
    "    elif selected == '탐색적 자료분석' :\n",
    "        pass\n",
    "    elif selected == '부동산 예측' :\n",
    "        pass\n",
    "    else :\n",
    "        print('error')\n",
    "if __name__ == \"__main__\":\n",
    "    main()\n",
    "'''"
   ]
  }
 ],
 "metadata": {
  "kernelspec": {
   "display_name": "Python 3 (ipykernel)",
   "language": "python",
   "name": "python3"
  },
  "language_info": {
   "codemirror_mode": {
    "name": "ipython",
    "version": 3
   },
   "file_extension": ".py",
   "mimetype": "text/x-python",
   "name": "python",
   "nbconvert_exporter": "python",
   "pygments_lexer": "ipython3",
   "version": "3.11.7"
  }
 },
 "nbformat": 4,
 "nbformat_minor": 5
}
