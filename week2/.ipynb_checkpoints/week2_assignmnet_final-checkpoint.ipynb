{
 "cells": [
  {
   "cell_type": "code",
   "execution_count": 10,
   "id": "e783f02b-942c-42f3-962e-385d8e6ce681",
   "metadata": {},
   "outputs": [],
   "source": [
    "import streamlit as st\n",
    "import requests\n",
    "import pandas as pd\n",
    "\n",
    "lawd_cd = 11530\n",
    "deal_ym = 202312\n",
    "pageNo = 1\n",
    "numOfRows = 10\n",
    "\n",
    "def fetch_apartment_sales(lawd_cd, deal_ym):\n",
    "    serviceKey = 'PT7s57yQ6NYjF%2BK4IX03RFJISja7dPlVceXQn7%2Fm2DWnibRv2u9288PJ6m9t4hi6sH2A%2B8fa8AGF3nDiGmeZRw%3D%3D'\n",
    "    lawd_cd = 11530\n",
    "    deal_ym = 202312\n",
    "    pageNo = 1\n",
    "    numOfRows = 10\n",
    "    url = f\"http://openapi.molit.go.kr/OpenAPI_ToolInstallPackage/service/rest/RTMSOBJSvc/getRTMSDataSvcAptTradeDev?serviceKey={serviceKey}&pageNo={pageNo}&numOfRows={numOfRows}&LAWD_CD={lawd_cd}&DEAL_YMD={deal_ym}\"\n",
    "    response = requests.get(url)\n",
    "    if response.status_code == 200:\n",
    "        try:\n",
    "            content = response.json()\n",
    "            items = content['response']['body']['items']['item']\n",
    "            df = pd.DataFrame(items)\n",
    "            return df[['년','월','일','도로명','거래금액']]\n",
    "        except:\n",
    "            return pd.DataFrame()\n",
    "    else:\n",
    "        return pd.DataFrame()\n",
    "\n",
    "result_df = fetch_apartment_sales(lawd_cd, deal_ym)"
   ]
  },
  {
   "cell_type": "code",
   "execution_count": 11,
   "id": "d7ca4a4d-2a64-4739-bd23-25985970ac72",
   "metadata": {},
   "outputs": [
    {
     "data": {
      "text/html": [
       "<div>\n",
       "<style scoped>\n",
       "    .dataframe tbody tr th:only-of-type {\n",
       "        vertical-align: middle;\n",
       "    }\n",
       "\n",
       "    .dataframe tbody tr th {\n",
       "        vertical-align: top;\n",
       "    }\n",
       "\n",
       "    .dataframe thead th {\n",
       "        text-align: right;\n",
       "    }\n",
       "</style>\n",
       "<table border=\"1\" class=\"dataframe\">\n",
       "  <thead>\n",
       "    <tr style=\"text-align: right;\">\n",
       "      <th></th>\n",
       "    </tr>\n",
       "  </thead>\n",
       "  <tbody>\n",
       "  </tbody>\n",
       "</table>\n",
       "</div>"
      ],
      "text/plain": [
       "Empty DataFrame\n",
       "Columns: []\n",
       "Index: []"
      ]
     },
     "execution_count": 11,
     "metadata": {},
     "output_type": "execute_result"
    }
   ],
   "source": [
    "result_df"
   ]
  },
  {
   "cell_type": "code",
   "execution_count": null,
   "id": "34f02ee3-55c2-45b8-8307-a9e3df663ea9",
   "metadata": {},
   "outputs": [],
   "source": []
  }
 ],
 "metadata": {
  "kernelspec": {
   "display_name": "Python 3 (ipykernel)",
   "language": "python",
   "name": "python3"
  },
  "language_info": {
   "codemirror_mode": {
    "name": "ipython",
    "version": 3
   },
   "file_extension": ".py",
   "mimetype": "text/x-python",
   "name": "python",
   "nbconvert_exporter": "python",
   "pygments_lexer": "ipython3",
   "version": "3.11.4"
  }
 },
 "nbformat": 4,
 "nbformat_minor": 5
}
